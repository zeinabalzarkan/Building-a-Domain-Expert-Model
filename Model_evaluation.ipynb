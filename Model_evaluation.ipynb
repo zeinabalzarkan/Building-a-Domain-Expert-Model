# Model Evaluation for SEC EDGAR Filings Classification

This notebook evaluates the performance of the classification model using metrics like accuracy, precision, recall, and F1-score.

import pandas as pd
from sklearn.metrics import classification_report, confusion_matrix, accuracy_score
import seaborn as sns
import matplotlib.pyplot as plt

from joblib import load

# Load the trained model and test dataset
model = load('model.joblib')
test_data = pd.read_csv('finance_data/test.csv')

X_test = test_data['text']
y_test = test_data['label']
y_pred = model.predict(X_test)

# Classification report
report = classification_report(y_test, y_pred)
print("Classification Report:\n", report)

# Confusion Matrix
conf_matrix = confusion_matrix(y_test, y_pred)
print("Confusion Matrix:\n", conf_matrix)

# Accuracy
accuracy = accuracy_score(y_test, y_pred)
print(f"Accuracy: {accuracy * 100:.2f}%")

plt.figure(figsize=(10, 7))
sns.heatmap(conf_matrix, annot=True, fmt='d', cmap='Blues')
plt.title('Confusion Matrix')
plt.xlabel('Predicted')
plt.ylabel('True')
plt.show()
