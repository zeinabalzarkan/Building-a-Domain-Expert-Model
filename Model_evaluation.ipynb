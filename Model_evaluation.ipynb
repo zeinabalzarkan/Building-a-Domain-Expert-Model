#import labies 
import boto3
import pandas as pd
from sagemaker import get_execution_role

#Set Up SageMaker
role = get_execution_role()
endpoint_name = "your-fine-tuned-model-endpoint-name"

from sagemaker.huggingface import HuggingFacePredictor
predictor = HuggingFacePredictor(endpoint_name)

# Sample input queries for the finance domain
queries = [
    "What are the latest trends in the stock market?",
    "How can I invest in mutual funds?",
    "What is the impact of inflation on savings?",
]

responses = [predictor.predict(query) for query in queries]

# Display responses
for query, response in zip(queries, responses):
    print(f"Query: {query}\nResponse: {response}\n")
