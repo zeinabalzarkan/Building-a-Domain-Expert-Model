from transformers import Trainer, TrainingArguments
from datasets import load_dataset
import boto3

# Load your cleaned dataset from S3
dataset = load_dataset('csv', data_files='s3://your-bucket/path_to_your_cleaned_dataset.csv')

training_args = TrainingArguments(
    output_dir='./results',
    per_device_train_batch_size=4,
    num_train_epochs=3,
    logging_dir='./logs',
)

trainer = Trainer(
    model=huggingface_model,
    args=training_args,
    train_dataset=dataset['train'],
)

trainer.train()

trainer.save_model("finadvisor-model")
