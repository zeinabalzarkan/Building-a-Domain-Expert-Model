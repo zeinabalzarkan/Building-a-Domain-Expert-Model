import pandas as pd
from sklearn.model_selection import GridSearchCV
from sklearn.linear_model import LogisticRegression
from sklearn.pipeline import Pipeline
from sklearn.feature_extraction.text import TfidfVectorizer
from joblib import dump

train_data = pd.read_csv('finance_data/train.csv')
val_data = pd.read_csv('finance_data/val.csv')

X_train = train_data['text']
y_train = train_data['label']

X_val = val_data['text']
y_val = val_data['label']

# Create a pipeline with Tfidf and Logistic Regression
pipeline = Pipeline([
    ('tfidf', TfidfVectorizer()),
    ('clf', LogisticRegression())
])

# Define a hyperparameter grid
param_grid = {
    'tfidf__max_df': [0.7, 0.85, 1.0],
    'tfidf__ngram_range': [(1, 1), (1, 2)],
    'clf__C': [0.1, 1.0, 10]
}
grid_search = GridSearchCV(pipeline, param_grid, cv=3, verbose=1, n_jobs=-1)
grid_search.fit(X_train, y_train)

print("Best parameters found:\n", grid_search.best_params_)
best_model = grid_search.best_estimator_

y_val_pred = best_model.predict(X_val)

# Classification report
print(classification_report(y_val, y_val_pred))

# Confusion Matrix
conf_matrix_val = confusion_matrix(y_val, y_val_pred)
sns.heatmap(conf_matrix_val, annot=True, fmt='d', cmap='Blues')
plt.title('Confusion Matrix - Validation Set')
plt.show()
# Save the best model
dump(best_model, 'fine_tuned_model.joblib')
